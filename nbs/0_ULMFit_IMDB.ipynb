{
 "cells": [
  {
   "cell_type": "code",
   "execution_count": 1,
   "metadata": {},
   "outputs": [],
   "source": [
    "from fastai.text.all import *"
   ]
  },
  {
   "cell_type": "code",
   "execution_count": 2,
   "metadata": {},
   "outputs": [
    {
     "data": {
      "text/plain": [
       "True"
      ]
     },
     "execution_count": 2,
     "metadata": {},
     "output_type": "execute_result"
    }
   ],
   "source": [
    "torch.cuda.is_available()"
   ]
  },
  {
   "cell_type": "code",
   "execution_count": 2,
   "metadata": {
    "scrolled": true
   },
   "outputs": [
    {
     "data": {
      "text/html": [],
      "text/plain": [
       "<IPython.core.display.HTML object>"
      ]
     },
     "metadata": {},
     "output_type": "display_data"
    },
    {
     "data": {
      "text/plain": [
       "(#7) [Path('/home/lazylearner/.fastai/data/imdb/unsup'),Path('/home/lazylearner/.fastai/data/imdb/tmp_clas'),Path('/home/lazylearner/.fastai/data/imdb/train'),Path('/home/lazylearner/.fastai/data/imdb/imdb.vocab'),Path('/home/lazylearner/.fastai/data/imdb/README'),Path('/home/lazylearner/.fastai/data/imdb/tmp_lm'),Path('/home/lazylearner/.fastai/data/imdb/test')]"
      ]
     },
     "execution_count": 2,
     "metadata": {},
     "output_type": "execute_result"
    }
   ],
   "source": [
    "path = untar_data(URLs.IMDB)\n",
    "path.ls()"
   ]
  },
  {
   "cell_type": "code",
   "execution_count": 3,
   "metadata": {
    "scrolled": true
   },
   "outputs": [
    {
     "data": {
      "text/plain": [
       "(#4) [Path('/home/lazylearner/.fastai/data/imdb/train/pos'),Path('/home/lazylearner/.fastai/data/imdb/train/unsupBow.feat'),Path('/home/lazylearner/.fastai/data/imdb/train/labeledBow.feat'),Path('/home/lazylearner/.fastai/data/imdb/train/neg')]"
      ]
     },
     "execution_count": 3,
     "metadata": {},
     "output_type": "execute_result"
    }
   ],
   "source": [
    "(path/'train').ls()"
   ]
  },
  {
   "cell_type": "markdown",
   "metadata": {},
   "source": [
    "#### Fine-tuning a language model on IMDb"
   ]
  },
  {
   "cell_type": "code",
   "execution_count": 5,
   "metadata": {},
   "outputs": [
    {
     "data": {
      "text/plain": [
       "Path('/home/lazylearner/.fastai/data/imdb')"
      ]
     },
     "execution_count": 5,
     "metadata": {},
     "output_type": "execute_result"
    }
   ],
   "source": [
    "path"
   ]
  },
  {
   "cell_type": "code",
   "execution_count": 3,
   "metadata": {},
   "outputs": [],
   "source": [
    "path = Path('/home/lazylearner/.fastai/data/imdb')"
   ]
  },
  {
   "cell_type": "code",
   "execution_count": 4,
   "metadata": {},
   "outputs": [],
   "source": [
    "BATCH_SIZE = 32\n",
    "dls_lm = TextDataLoaders.from_folder(path, is_lm=True, bs=BATCH_SIZE, valid_pct=0.1)"
   ]
  },
  {
   "cell_type": "code",
   "execution_count": 5,
   "metadata": {},
   "outputs": [
    {
     "data": {
      "text/html": [
       "<table border=\"1\" class=\"dataframe\">\n",
       "  <thead>\n",
       "    <tr style=\"text-align: right;\">\n",
       "      <th></th>\n",
       "      <th>text</th>\n",
       "      <th>text_</th>\n",
       "    </tr>\n",
       "  </thead>\n",
       "  <tbody>\n",
       "    <tr>\n",
       "      <th>0</th>\n",
       "      <td>xxbos i saw this movie when i was about 12 when it came out . i recall the scariest scene was the big bird eating men dangling helplessly from parachutes right out of the air . xxmaj the horror . xxmaj the horror . \\n\\n xxmaj as a young kid going to these cheesy b films on xxmaj saturday afternoons , i still was tired of the formula for these monster type</td>\n",
       "      <td>i saw this movie when i was about 12 when it came out . i recall the scariest scene was the big bird eating men dangling helplessly from parachutes right out of the air . xxmaj the horror . xxmaj the horror . \\n\\n xxmaj as a young kid going to these cheesy b films on xxmaj saturday afternoons , i still was tired of the formula for these monster type movies</td>\n",
       "    </tr>\n",
       "    <tr>\n",
       "      <th>1</th>\n",
       "      <td>( jon xxmaj voight ) , xxmaj lewis ( burt xxmaj reynolds ) , xxmaj drew ( ronny xxmaj cox ) and xxmaj bobby ( ned xxmaj beatty ) , decide to go on a rafting trip on the xxmaj cahulawassee river , before it is flooded . \\n\\n xxmaj they wanted to have fun , to have a nice weekend in the nature . \\n\\n xxmaj but when two mountain men</td>\n",
       "      <td>jon xxmaj voight ) , xxmaj lewis ( burt xxmaj reynolds ) , xxmaj drew ( ronny xxmaj cox ) and xxmaj bobby ( ned xxmaj beatty ) , decide to go on a rafting trip on the xxmaj cahulawassee river , before it is flooded . \\n\\n xxmaj they wanted to have fun , to have a nice weekend in the nature . \\n\\n xxmaj but when two mountain men cross</td>\n",
       "    </tr>\n",
       "    <tr>\n",
       "      <th>2</th>\n",
       "      <td>the women have a few drinks and share their sexual encounters with each other . xxmaj its much more personal and people can relate to it . xxmaj its much more engaging and emotional on a new level than other dramas focusing on women and their lives like \" sex and the xxmaj city , xxmaj lipstick xxmaj jungle … . \" \\n\\n xxmaj dr . xxmaj katie xxmaj xxunk , is</td>\n",
       "      <td>women have a few drinks and share their sexual encounters with each other . xxmaj its much more personal and people can relate to it . xxmaj its much more engaging and emotional on a new level than other dramas focusing on women and their lives like \" sex and the xxmaj city , xxmaj lipstick xxmaj jungle … . \" \\n\\n xxmaj dr . xxmaj katie xxmaj xxunk , is a</td>\n",
       "    </tr>\n",
       "    <tr>\n",
       "      <th>3</th>\n",
       "      <td>2004 as a part of a 5 disc / 10 movies boxed - set named \" sci - fi - 10 xxup great xxup films ! \" . \\n\\n r xxrep 8 i ght … .. xxbos xxmaj on xxmaj june 14 1905 , during the xxmaj russian xxmaj revolution of that year , sailors aboard the xxmaj russian battleship xxmaj potemkin rebelled against their oppressive officers . xxmaj frustrated with the</td>\n",
       "      <td>as a part of a 5 disc / 10 movies boxed - set named \" sci - fi - 10 xxup great xxup films ! \" . \\n\\n r xxrep 8 i ght … .. xxbos xxmaj on xxmaj june 14 1905 , during the xxmaj russian xxmaj revolution of that year , sailors aboard the xxmaj russian battleship xxmaj potemkin rebelled against their oppressive officers . xxmaj frustrated with the second</td>\n",
       "    </tr>\n",
       "    <tr>\n",
       "      <th>4</th>\n",
       "      <td>wagons of immigrants riding in circles around the encampment of regulations ( early westerns to the contrary this was a film making device and not an actual tactic of the xxmaj indians ) . xxmaj and weeks prior to the arrival of the regulators a number of xxmaj johnson xxmaj county residents were hanged without trial including xxmaj jim xxmaj xxunk , the keeper of a modest road ranch , and his</td>\n",
       "      <td>of immigrants riding in circles around the encampment of regulations ( early westerns to the contrary this was a film making device and not an actual tactic of the xxmaj indians ) . xxmaj and weeks prior to the arrival of the regulators a number of xxmaj johnson xxmaj county residents were hanged without trial including xxmaj jim xxmaj xxunk , the keeper of a modest road ranch , and his wife</td>\n",
       "    </tr>\n",
       "  </tbody>\n",
       "</table>"
      ],
      "text/plain": [
       "<IPython.core.display.HTML object>"
      ]
     },
     "metadata": {},
     "output_type": "display_data"
    }
   ],
   "source": [
    "dls_lm.show_batch(max_n=5)"
   ]
  },
  {
   "cell_type": "code",
   "execution_count": 6,
   "metadata": {},
   "outputs": [
    {
     "data": {
      "text/plain": [
       "32"
      ]
     },
     "execution_count": 6,
     "metadata": {},
     "output_type": "execute_result"
    }
   ],
   "source": [
    "dls_lm.bs"
   ]
  },
  {
   "cell_type": "code",
   "execution_count": null,
   "metadata": {},
   "outputs": [],
   "source": [
    "learn = language_model_learner(dls_lm, AWD_LSTM, metrics=[accuracy, Perplexity()], path=path, wd=0.1).to_fp16()"
   ]
  },
  {
   "cell_type": "code",
   "execution_count": 8,
   "metadata": {},
   "outputs": [
    {
     "data": {
      "text/plain": [
       "SequentialRNN(\n",
       "  (0): AWD_LSTM(\n",
       "    (encoder): Embedding(60008, 400, padding_idx=1)\n",
       "    (encoder_dp): EmbeddingDropout(\n",
       "      (emb): Embedding(60008, 400, padding_idx=1)\n",
       "    )\n",
       "    (rnns): ModuleList(\n",
       "      (0): WeightDropout(\n",
       "        (module): LSTM(400, 1152, batch_first=True)\n",
       "      )\n",
       "      (1): WeightDropout(\n",
       "        (module): LSTM(1152, 1152, batch_first=True)\n",
       "      )\n",
       "      (2): WeightDropout(\n",
       "        (module): LSTM(1152, 400, batch_first=True)\n",
       "      )\n",
       "    )\n",
       "    (input_dp): RNNDropout()\n",
       "    (hidden_dps): ModuleList(\n",
       "      (0): RNNDropout()\n",
       "      (1): RNNDropout()\n",
       "      (2): RNNDropout()\n",
       "    )\n",
       "  )\n",
       "  (1): LinearDecoder(\n",
       "    (decoder): Linear(in_features=400, out_features=60008, bias=True)\n",
       "    (output_dp): RNNDropout()\n",
       "  )\n",
       ")"
      ]
     },
     "execution_count": 8,
     "metadata": {},
     "output_type": "execute_result"
    }
   ],
   "source": [
    "learn.model"
   ]
  },
  {
   "cell_type": "code",
   "execution_count": 9,
   "metadata": {},
   "outputs": [],
   "source": [
    "TEXT = \"The color of the sky is\"\n",
    "N_WORDS = 40\n",
    "N_SENTENCES = 2"
   ]
  },
  {
   "cell_type": "code",
   "execution_count": 10,
   "metadata": {},
   "outputs": [
    {
     "data": {
      "text/html": [],
      "text/plain": [
       "<IPython.core.display.HTML object>"
      ]
     },
     "metadata": {},
     "output_type": "display_data"
    },
    {
     "data": {
      "text/html": [],
      "text/plain": [
       "<IPython.core.display.HTML object>"
      ]
     },
     "metadata": {},
     "output_type": "display_data"
    },
    {
     "name": "stdout",
     "output_type": "stream",
     "text": [
      "The color of the sky is a dark color , the symbolism being reflected in the spirit of the Moon . The blue sky appears to be a part of the sky , which makes the sky visible in throughout the world .\n",
      "The color of the sky is similar to Earth , with the sun being white with a bright grey surface . The sky is a dark blue , whereas the sky is dark . The sky has a dark blue sky , and\n"
     ]
    }
   ],
   "source": [
    "print(\"\\n\".join(learn.predict(TEXT, N_WORDS, temperature=0.75) for _ in range(N_SENTENCES)))"
   ]
  },
  {
   "cell_type": "code",
   "execution_count": 11,
   "metadata": {},
   "outputs": [],
   "source": [
    "TEXT = \"I hated this movie\"\n",
    "N_WORDS = 30\n",
    "N_SENTENCES = 2"
   ]
  },
  {
   "cell_type": "code",
   "execution_count": 12,
   "metadata": {},
   "outputs": [
    {
     "data": {
      "text/html": [],
      "text/plain": [
       "<IPython.core.display.HTML object>"
      ]
     },
     "metadata": {},
     "output_type": "display_data"
    },
    {
     "data": {
      "text/html": [],
      "text/plain": [
       "<IPython.core.display.HTML object>"
      ]
     },
     "metadata": {},
     "output_type": "display_data"
    },
    {
     "name": "stdout",
     "output_type": "stream",
     "text": [
      "i hated this movie : \" i wanted to do that , i made this things i was excited about . But i wanted to bring the movie to the head of the\n",
      "i hated this movie for English actor Albert Chevalier . The film was never made available at the Cannes Film Festival , France 's national film\n"
     ]
    }
   ],
   "source": [
    "print(\"\\n\".join(learn.predict(TEXT, N_WORDS, temperature=0.75) for _ in range(N_SENTENCES)))"
   ]
  },
  {
   "cell_type": "code",
   "execution_count": 11,
   "metadata": {},
   "outputs": [],
   "source": [
    "?? learn.fit_one_cycle"
   ]
  },
  {
   "cell_type": "code",
   "execution_count": 9,
   "metadata": {},
   "outputs": [
    {
     "data": {
      "text/html": [
       "<table border=\"1\" class=\"dataframe\">\n",
       "  <thead>\n",
       "    <tr style=\"text-align: left;\">\n",
       "      <th>epoch</th>\n",
       "      <th>train_loss</th>\n",
       "      <th>valid_loss</th>\n",
       "      <th>accuracy</th>\n",
       "      <th>perplexity</th>\n",
       "      <th>time</th>\n",
       "    </tr>\n",
       "  </thead>\n",
       "  <tbody>\n",
       "    <tr>\n",
       "      <td>0</td>\n",
       "      <td>4.468313</td>\n",
       "      <td>4.189966</td>\n",
       "      <td>0.281453</td>\n",
       "      <td>66.020561</td>\n",
       "      <td>1:10:04</td>\n",
       "    </tr>\n",
       "  </tbody>\n",
       "</table>"
      ],
      "text/plain": [
       "<IPython.core.display.HTML object>"
      ]
     },
     "metadata": {},
     "output_type": "display_data"
    }
   ],
   "source": [
    "learn.fit_one_cycle(1, 1e-2)"
   ]
  },
  {
   "cell_type": "code",
   "execution_count": 10,
   "metadata": {},
   "outputs": [
    {
     "data": {
      "text/plain": [
       "Path('/home/lazylearner/.fastai/data/imdb/models/1epoch.pth')"
      ]
     },
     "execution_count": 10,
     "metadata": {},
     "output_type": "execute_result"
    }
   ],
   "source": [
    "learn.save('1epoch')"
   ]
  },
  {
   "cell_type": "code",
   "execution_count": null,
   "metadata": {},
   "outputs": [],
   "source": [
    "# learn = learn.load('1epoch')"
   ]
  },
  {
   "cell_type": "code",
   "execution_count": null,
   "metadata": {},
   "outputs": [],
   "source": []
  },
  {
   "cell_type": "code",
   "execution_count": null,
   "metadata": {},
   "outputs": [],
   "source": [
    "learn.unfreeze()\n",
    "learn.fit_one_cycle(10, 1e-3)"
   ]
  },
  {
   "cell_type": "code",
   "execution_count": null,
   "metadata": {},
   "outputs": [],
   "source": [
    "learn.save_encoder('finetuned')"
   ]
  },
  {
   "cell_type": "code",
   "execution_count": null,
   "metadata": {},
   "outputs": [],
   "source": [
    "TEXT = \"I liked this movie because\"\n",
    "N_WORDS = 40\n",
    "N_SENTENCES = 2\n",
    "preds = [learn.predict(TEXT, N_WORDS, temperature=0.75) \n",
    "         for _ in range(N_SENTENCES)]"
   ]
  },
  {
   "cell_type": "code",
   "execution_count": null,
   "metadata": {},
   "outputs": [],
   "source": []
  }
 ],
 "metadata": {
  "kernelspec": {
   "display_name": "Python 3",
   "language": "python",
   "name": "python3"
  },
  "language_info": {
   "codemirror_mode": {
    "name": "ipython",
    "version": 3
   },
   "file_extension": ".py",
   "mimetype": "text/x-python",
   "name": "python",
   "nbconvert_exporter": "python",
   "pygments_lexer": "ipython3",
   "version": "3.7.9"
  }
 },
 "nbformat": 4,
 "nbformat_minor": 4
}
