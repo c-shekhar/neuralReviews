{
 "cells": [
  {
   "cell_type": "code",
   "execution_count": 1,
   "metadata": {},
   "outputs": [],
   "source": [
    "from fastai.text.all import *"
   ]
  },
  {
   "cell_type": "code",
   "execution_count": 2,
   "metadata": {},
   "outputs": [
    {
     "data": {
      "text/plain": [
       "True"
      ]
     },
     "execution_count": 2,
     "metadata": {},
     "output_type": "execute_result"
    }
   ],
   "source": [
    "torch.cuda.is_available()"
   ]
  },
  {
   "cell_type": "markdown",
   "metadata": {},
   "source": [
    "#### Fine-tuning a language model on Rotten Tomatoes Movie Reviews\n",
    "Data source: https://www.kaggle.com/c/sentiment-analysis-on-movie-reviews/overview"
   ]
  },
  {
   "cell_type": "code",
   "execution_count": 28,
   "metadata": {},
   "outputs": [
    {
     "data": {
      "text/html": [
       "<img src=\"https://docs.fast.ai/images/ulmfit.png\"/>"
      ],
      "text/plain": [
       "<IPython.core.display.Image object>"
      ]
     },
     "execution_count": 28,
     "metadata": {},
     "output_type": "execute_result"
    }
   ],
   "source": [
    "from IPython.display import Image\n",
    "Image(url='https://docs.fast.ai/images/ulmfit.png')"
   ]
  },
  {
   "cell_type": "code",
   "execution_count": 3,
   "metadata": {},
   "outputs": [],
   "source": [
    "path = Path(\"..\") / \"data/sentiment-analysis-on-movie-reviews\""
   ]
  },
  {
   "cell_type": "code",
   "execution_count": 4,
   "metadata": {},
   "outputs": [
    {
     "data": {
      "text/html": [],
      "text/plain": [
       "<IPython.core.display.HTML object>"
      ]
     },
     "metadata": {},
     "output_type": "display_data"
    },
    {
     "name": "stderr",
     "output_type": "stream",
     "text": [
      "/home/lazylearner/anaconda3/envs/amazonreviews/lib/python3.7/site-packages/numpy/core/_asarray.py:83: VisibleDeprecationWarning: Creating an ndarray from ragged nested sequences (which is a list-or-tuple of lists-or-tuples-or ndarrays with different lengths or shapes) is deprecated. If you meant to do this, you must specify 'dtype=object' when creating the ndarray\n",
      "  return array(a, dtype, copy=False, order=order)\n"
     ]
    }
   ],
   "source": [
    "BATCH_SIZE = 32\n",
    "dls_lm = TextDataLoaders.from_csv(path, csv_fname=\"train.tsv\", delimiter=\"\\t\", text_col=2, label_col=3, is_lm=True, bs=BATCH_SIZE, valid_pct=0.1)"
   ]
  },
  {
   "cell_type": "code",
   "execution_count": 5,
   "metadata": {},
   "outputs": [
    {
     "data": {
      "text/html": [
       "<table border=\"1\" class=\"dataframe\">\n",
       "  <thead>\n",
       "    <tr style=\"text-align: right;\">\n",
       "      <th></th>\n",
       "      <th>text</th>\n",
       "      <th>text_</th>\n",
       "    </tr>\n",
       "  </thead>\n",
       "  <tbody>\n",
       "    <tr>\n",
       "      <th>0</th>\n",
       "      <td>xxbos by two actresses in their 50s working xxbos does n't this film have that an impressionable kid could n't stand to hear ? xxbos the toilet xxbos how well it holds up in an era in which computer - generated images are the norm xxbos a surprisingly sensitive script co - written xxbos been thoroughly debated in the media xxbos as fresh xxbos usual tropes xxbos freshly xxbos a modicum of</td>\n",
       "      <td>by two actresses in their 50s working xxbos does n't this film have that an impressionable kid could n't stand to hear ? xxbos the toilet xxbos how well it holds up in an era in which computer - generated images are the norm xxbos a surprisingly sensitive script co - written xxbos been thoroughly debated in the media xxbos as fresh xxbos usual tropes xxbos freshly xxbos a modicum of patience</td>\n",
       "    </tr>\n",
       "    <tr>\n",
       "      <th>1</th>\n",
       "      <td>nice coffee table book xxbos mild escapism xxbos pacing xxbos xxmaj such a premise xxbos should now xxbos uncool the only thing missing is the ` ` xxmaj gadzooks ! '' xxbos xxmaj the sequel is everything the original was not : contrived , overblown and tie - in ready . xxbos xxmaj despite an overwrought ending xxbos the cost xxbos xxmaj shrewd but pointless . xxbos xxmaj not all of the</td>\n",
       "      <td>coffee table book xxbos mild escapism xxbos pacing xxbos xxmaj such a premise xxbos should now xxbos uncool the only thing missing is the ` ` xxmaj gadzooks ! '' xxbos xxmaj the sequel is everything the original was not : contrived , overblown and tie - in ready . xxbos xxmaj despite an overwrought ending xxbos the cost xxbos xxmaj shrewd but pointless . xxbos xxmaj not all of the stories</td>\n",
       "    </tr>\n",
       "    <tr>\n",
       "      <th>2</th>\n",
       "      <td>simple in form but rich with human events . xxbos paid a matinee price xxbos xxmaj large budget xxbos gives xxmaj hollywood sequels a bad name xxbos believe it xxbos an unbalanced mixture xxbos xxmaj one of those exceedingly rare films in which the talk alone is enough to keep us xxbos xxmaj most consumers xxbos xxmaj fluffy and disposible xxbos of the worst possibilities of mankind xxbos filled with crude humor</td>\n",
       "      <td>in form but rich with human events . xxbos paid a matinee price xxbos xxmaj large budget xxbos gives xxmaj hollywood sequels a bad name xxbos believe it xxbos an unbalanced mixture xxbos xxmaj one of those exceedingly rare films in which the talk alone is enough to keep us xxbos xxmaj most consumers xxbos xxmaj fluffy and disposible xxbos of the worst possibilities of mankind xxbos filled with crude humor and</td>\n",
       "    </tr>\n",
       "    <tr>\n",
       "      <th>3</th>\n",
       "      <td>gross romanticization of the delusional personality type xxbos this film , xxbos ` xxmaj silence of the xxmaj lambs ' better than ` xxmaj hannibal ' xxbos takes a potentially trite and overused concept -lrb- aliens come to xxmaj earth -rrb- and infuses it into a rustic , realistic , and altogether creepy tale of hidden invasion xxbos be distasteful to children and adults alike xxbos are intriguing and realistic xxbos technical</td>\n",
       "      <td>romanticization of the delusional personality type xxbos this film , xxbos ` xxmaj silence of the xxmaj lambs ' better than ` xxmaj hannibal ' xxbos takes a potentially trite and overused concept -lrb- aliens come to xxmaj earth -rrb- and infuses it into a rustic , realistic , and altogether creepy tale of hidden invasion xxbos be distasteful to children and adults alike xxbos are intriguing and realistic xxbos technical skill</td>\n",
       "    </tr>\n",
       "    <tr>\n",
       "      <th>4</th>\n",
       "      <td>keep us riveted to our seats . xxbos her quiet blue eyes xxbos still works . xxbos funny moment xxbos filmgoers xxbos manages , with terrific flair , to keep the extremes of screwball farce and blood - curdling family intensity on one continuum xxbos of xxmaj pokemon xxbos , its writer - director 's heart is in the right place , his plea for democracy and civic action laudable . xxbos</td>\n",
       "      <td>us riveted to our seats . xxbos her quiet blue eyes xxbos still works . xxbos funny moment xxbos filmgoers xxbos manages , with terrific flair , to keep the extremes of screwball farce and blood - curdling family intensity on one continuum xxbos of xxmaj pokemon xxbos , its writer - director 's heart is in the right place , his plea for democracy and civic action laudable . xxbos begins</td>\n",
       "    </tr>\n",
       "  </tbody>\n",
       "</table>"
      ],
      "text/plain": [
       "<IPython.core.display.HTML object>"
      ]
     },
     "metadata": {},
     "output_type": "display_data"
    }
   ],
   "source": [
    "dls_lm.show_batch(max_n=5)"
   ]
  },
  {
   "cell_type": "code",
   "execution_count": 6,
   "metadata": {},
   "outputs": [
    {
     "data": {
      "text/plain": [
       "32"
      ]
     },
     "execution_count": 6,
     "metadata": {},
     "output_type": "execute_result"
    }
   ],
   "source": [
    "dls_lm.bs"
   ]
  },
  {
   "cell_type": "code",
   "execution_count": 7,
   "metadata": {},
   "outputs": [],
   "source": [
    "learn = language_model_learner(dls_lm, AWD_LSTM, metrics=[accuracy, Perplexity()], path=path, wd=0.1).to_fp16()"
   ]
  },
  {
   "cell_type": "code",
   "execution_count": 8,
   "metadata": {},
   "outputs": [
    {
     "data": {
      "text/plain": [
       "SequentialRNN(\n",
       "  (0): AWD_LSTM(\n",
       "    (encoder): Embedding(15280, 400, padding_idx=1)\n",
       "    (encoder_dp): EmbeddingDropout(\n",
       "      (emb): Embedding(15280, 400, padding_idx=1)\n",
       "    )\n",
       "    (rnns): ModuleList(\n",
       "      (0): WeightDropout(\n",
       "        (module): LSTM(400, 1152, batch_first=True)\n",
       "      )\n",
       "      (1): WeightDropout(\n",
       "        (module): LSTM(1152, 1152, batch_first=True)\n",
       "      )\n",
       "      (2): WeightDropout(\n",
       "        (module): LSTM(1152, 400, batch_first=True)\n",
       "      )\n",
       "    )\n",
       "    (input_dp): RNNDropout()\n",
       "    (hidden_dps): ModuleList(\n",
       "      (0): RNNDropout()\n",
       "      (1): RNNDropout()\n",
       "      (2): RNNDropout()\n",
       "    )\n",
       "  )\n",
       "  (1): LinearDecoder(\n",
       "    (decoder): Linear(in_features=400, out_features=15280, bias=True)\n",
       "    (output_dp): RNNDropout()\n",
       "  )\n",
       ")"
      ]
     },
     "execution_count": 8,
     "metadata": {},
     "output_type": "execute_result"
    }
   ],
   "source": [
    "learn.model"
   ]
  },
  {
   "cell_type": "code",
   "execution_count": 11,
   "metadata": {},
   "outputs": [],
   "source": [
    "TEXT = \"I hated this movie\"\n",
    "N_WORDS = 30\n",
    "N_SENTENCES = 2"
   ]
  },
  {
   "cell_type": "code",
   "execution_count": 12,
   "metadata": {},
   "outputs": [
    {
     "data": {
      "text/html": [],
      "text/plain": [
       "<IPython.core.display.HTML object>"
      ]
     },
     "metadata": {},
     "output_type": "display_data"
    },
    {
     "data": {
      "text/html": [],
      "text/plain": [
       "<IPython.core.display.HTML object>"
      ]
     },
     "metadata": {},
     "output_type": "display_data"
    },
    {
     "name": "stdout",
     "output_type": "stream",
     "text": [
      "i hated this movie like The King of Lived and Bill , Prince of Egypt , and the Shakespeare Trilogy . The film would be\n",
      "i hated this movie long enough to have him released it without a rage or even losing the fame . In his Death and State Video of the Century\n"
     ]
    }
   ],
   "source": [
    "print(\"\\n\".join(learn.predict(TEXT, N_WORDS, temperature=0.75) for _ in range(N_SENTENCES)))"
   ]
  },
  {
   "cell_type": "markdown",
   "metadata": {},
   "source": [
    "#### Train only the head of the model while the body stays frozen."
   ]
  },
  {
   "cell_type": "code",
   "execution_count": 14,
   "metadata": {},
   "outputs": [
    {
     "data": {
      "text/html": [
       "<table border=\"1\" class=\"dataframe\">\n",
       "  <thead>\n",
       "    <tr style=\"text-align: left;\">\n",
       "      <th>epoch</th>\n",
       "      <th>train_loss</th>\n",
       "      <th>valid_loss</th>\n",
       "      <th>accuracy</th>\n",
       "      <th>perplexity</th>\n",
       "      <th>time</th>\n",
       "    </tr>\n",
       "  </thead>\n",
       "  <tbody>\n",
       "    <tr>\n",
       "      <td>0</td>\n",
       "      <td>4.319363</td>\n",
       "      <td>3.955143</td>\n",
       "      <td>0.332628</td>\n",
       "      <td>52.203182</td>\n",
       "      <td>02:37</td>\n",
       "    </tr>\n",
       "  </tbody>\n",
       "</table>"
      ],
      "text/plain": [
       "<IPython.core.display.HTML object>"
      ]
     },
     "metadata": {},
     "output_type": "display_data"
    }
   ],
   "source": [
    "learn.fit_one_cycle(1, 1e-2)"
   ]
  },
  {
   "cell_type": "code",
   "execution_count": 15,
   "metadata": {},
   "outputs": [
    {
     "data": {
      "text/plain": [
       "Path('../data/sentiment-analysis-on-movie-reviews/models/1epoch-rt.pth')"
      ]
     },
     "execution_count": 15,
     "metadata": {},
     "output_type": "execute_result"
    }
   ],
   "source": [
    "learn.save('1epoch-rt')"
   ]
  },
  {
   "cell_type": "code",
   "execution_count": 16,
   "metadata": {},
   "outputs": [],
   "source": [
    "# learn = learn.load('1epoch')"
   ]
  },
  {
   "cell_type": "markdown",
   "metadata": {},
   "source": [
    "#### Fine-tune the model after unfreezing"
   ]
  },
  {
   "cell_type": "code",
   "execution_count": 17,
   "metadata": {},
   "outputs": [
    {
     "data": {
      "text/html": [
       "<table border=\"1\" class=\"dataframe\">\n",
       "  <thead>\n",
       "    <tr style=\"text-align: left;\">\n",
       "      <th>epoch</th>\n",
       "      <th>train_loss</th>\n",
       "      <th>valid_loss</th>\n",
       "      <th>accuracy</th>\n",
       "      <th>perplexity</th>\n",
       "      <th>time</th>\n",
       "    </tr>\n",
       "  </thead>\n",
       "  <tbody>\n",
       "    <tr>\n",
       "      <td>0</td>\n",
       "      <td>3.880170</td>\n",
       "      <td>3.570047</td>\n",
       "      <td>0.376660</td>\n",
       "      <td>35.518257</td>\n",
       "      <td>03:06</td>\n",
       "    </tr>\n",
       "    <tr>\n",
       "      <td>1</td>\n",
       "      <td>3.488851</td>\n",
       "      <td>3.077907</td>\n",
       "      <td>0.451082</td>\n",
       "      <td>21.712912</td>\n",
       "      <td>03:02</td>\n",
       "    </tr>\n",
       "    <tr>\n",
       "      <td>2</td>\n",
       "      <td>3.073153</td>\n",
       "      <td>2.663300</td>\n",
       "      <td>0.523411</td>\n",
       "      <td>14.343538</td>\n",
       "      <td>03:02</td>\n",
       "    </tr>\n",
       "    <tr>\n",
       "      <td>3</td>\n",
       "      <td>2.747096</td>\n",
       "      <td>2.386356</td>\n",
       "      <td>0.570125</td>\n",
       "      <td>10.873794</td>\n",
       "      <td>03:05</td>\n",
       "    </tr>\n",
       "    <tr>\n",
       "      <td>4</td>\n",
       "      <td>2.511853</td>\n",
       "      <td>2.222834</td>\n",
       "      <td>0.599615</td>\n",
       "      <td>9.233460</td>\n",
       "      <td>03:02</td>\n",
       "    </tr>\n",
       "    <tr>\n",
       "      <td>5</td>\n",
       "      <td>2.376691</td>\n",
       "      <td>2.115220</td>\n",
       "      <td>0.618539</td>\n",
       "      <td>8.291410</td>\n",
       "      <td>03:01</td>\n",
       "    </tr>\n",
       "    <tr>\n",
       "      <td>6</td>\n",
       "      <td>2.253767</td>\n",
       "      <td>2.045086</td>\n",
       "      <td>0.630296</td>\n",
       "      <td>7.729821</td>\n",
       "      <td>03:03</td>\n",
       "    </tr>\n",
       "    <tr>\n",
       "      <td>7</td>\n",
       "      <td>2.164230</td>\n",
       "      <td>2.006582</td>\n",
       "      <td>0.638123</td>\n",
       "      <td>7.437850</td>\n",
       "      <td>03:03</td>\n",
       "    </tr>\n",
       "    <tr>\n",
       "      <td>8</td>\n",
       "      <td>2.124313</td>\n",
       "      <td>1.992255</td>\n",
       "      <td>0.641198</td>\n",
       "      <td>7.332046</td>\n",
       "      <td>03:05</td>\n",
       "    </tr>\n",
       "    <tr>\n",
       "      <td>9</td>\n",
       "      <td>2.120817</td>\n",
       "      <td>1.989486</td>\n",
       "      <td>0.641504</td>\n",
       "      <td>7.311777</td>\n",
       "      <td>03:07</td>\n",
       "    </tr>\n",
       "  </tbody>\n",
       "</table>"
      ],
      "text/plain": [
       "<IPython.core.display.HTML object>"
      ]
     },
     "metadata": {},
     "output_type": "display_data"
    }
   ],
   "source": [
    "learn.unfreeze()\n",
    "learn.fit_one_cycle(10, 1e-3)"
   ]
  },
  {
   "cell_type": "code",
   "execution_count": 18,
   "metadata": {},
   "outputs": [],
   "source": [
    "learn.save_encoder('finetuned-rt')"
   ]
  },
  {
   "cell_type": "code",
   "execution_count": 19,
   "metadata": {},
   "outputs": [
    {
     "data": {
      "text/html": [],
      "text/plain": [
       "<IPython.core.display.HTML object>"
      ]
     },
     "metadata": {},
     "output_type": "display_data"
    },
    {
     "data": {
      "text/html": [],
      "text/plain": [
       "<IPython.core.display.HTML object>"
      ]
     },
     "metadata": {},
     "output_type": "display_data"
    }
   ],
   "source": [
    "TEXT = \"I liked this movie because\"\n",
    "N_WORDS = 40\n",
    "N_SENTENCES = 2\n",
    "preds = [learn.predict(TEXT, N_WORDS, temperature=0.75) \n",
    "         for _ in range(N_SENTENCES)]"
   ]
  },
  {
   "cell_type": "code",
   "execution_count": 20,
   "metadata": {},
   "outputs": [
    {
     "name": "stdout",
     "output_type": "stream",
     "text": [
      "i liked this movie because i had two guys out of me in the series takes on a whole other meaning and His Secret Life enters the land of unintentional melodrama and tiresome love triangles the word ` `\n",
      "i liked this movie because i ' ve seen ` jackass : the movie in the bitter end The Husband , The Wife and The Kidnapper experience , especially The filmmakers have crafted a\n"
     ]
    }
   ],
   "source": [
    "print(\"\\n\".join(preds))"
   ]
  },
  {
   "cell_type": "code",
   "execution_count": 21,
   "metadata": {},
   "outputs": [
    {
     "data": {
      "text/html": [],
      "text/plain": [
       "<IPython.core.display.HTML object>"
      ]
     },
     "metadata": {},
     "output_type": "display_data"
    },
    {
     "data": {
      "text/html": [],
      "text/plain": [
       "<IPython.core.display.HTML object>"
      ]
     },
     "metadata": {},
     "output_type": "display_data"
    }
   ],
   "source": [
    "TEXT = \"I hated this movie\"\n",
    "N_WORDS = 40\n",
    "N_SENTENCES = 2\n",
    "preds = [learn.predict(TEXT, N_WORDS, temperature=0.75) \n",
    "         for _ in range(N_SENTENCES)]"
   ]
  },
  {
   "cell_type": "code",
   "execution_count": 22,
   "metadata": {},
   "outputs": [
    {
     "name": "stdout",
     "output_type": "stream",
     "text": [
      "i hated this movie will enjoy it Though Storytelling is far more appealing Mr . Polanski 's film is a fascinating piece of history . the Russian word be what 's attracting audiences to\n",
      "i hated this movie and i felt myself powerfully drawn toward the light -- the light of the exit sign . with a touch of John Woo bullet ballet To the end of the movie , they 're all\n"
     ]
    }
   ],
   "source": [
    "print(\"\\n\".join(preds))"
   ]
  },
  {
   "cell_type": "code",
   "execution_count": null,
   "metadata": {},
   "outputs": [],
   "source": []
  }
 ],
 "metadata": {
  "kernelspec": {
   "display_name": "Python 3",
   "language": "python",
   "name": "python3"
  },
  "language_info": {
   "codemirror_mode": {
    "name": "ipython",
    "version": 3
   },
   "file_extension": ".py",
   "mimetype": "text/x-python",
   "name": "python",
   "nbconvert_exporter": "python",
   "pygments_lexer": "ipython3",
   "version": "3.7.9"
  }
 },
 "nbformat": 4,
 "nbformat_minor": 4
}
